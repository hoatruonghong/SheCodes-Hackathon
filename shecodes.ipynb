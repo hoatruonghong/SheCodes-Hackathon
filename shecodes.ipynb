{
    "metadata": {
        "kernelspec": {
            "name": "SQL",
            "display_name": "SQL",
            "language": "sql"
        },
        "language_info": {
            "name": "sql",
            "version": ""
        }
    },
    "nbformat_minor": 2,
    "nbformat": 4,
    "cells": [
        {
            "cell_type": "code",
            "source": [
                "CREATE DATABASE Shecodes;\r\n",
                "GO\r\n",
                "USE Shecodes;\r\n",
                "GO\r\n",
                "\r\n",
                "CREATE TABLE [User] (\r\n",
                "  ID_user       INT PRIMARY KEY,\r\n",
                "  fullname      NVARCHAR(255) NOT NULL,\r\n",
                "  phone_number  CHAR(10),\r\n",
                "  the_needy     INT,\r\n",
                "  ready         INT,\r\n",
                "  user_type     INT,\r\n",
                "  longitude     FLOAT,\r\n",
                "  latitude      FLOAT,\r\n",
                ")\r\n",
                "GO\r\n",
                "\r\n",
                "CREATE TABLE [Support_Point](\r\n",
                "    ID_point    INT PRIMARY KEY,\r\n",
                "    ID_user     INT,\r\n",
                "    the_needy   INT,\r\n",
                ")\r\n",
                "\r\n",
                "CREATE TABLE [Item](\r\n",
                "    ID_item             INT PRIMARY KEY IDENTITY(120,1),\r\n",
                "    item_name           NVARCHAR(255),\r\n",
                "    current_need_quantity       INT,\r\n",
                "    supported_quantity  INT,\r\n",
                "    medical_flag        INT,\r\n",
                ")\r\n",
                "\r\n",
                "CREATE TABLE [Belong](\r\n",
                "    ID_item     INT,\r\n",
                "    ID_point    INT,\r\n",
                "    quantity    INT,\r\n",
                "    PRIMARY KEY (ID_item, ID_point)\r\n",
                ")\r\n",
                "\r\n",
                "CREATE TABLE [Bill](\r\n",
                "    ID_bill     INT PRIMARY KEY,\r\n",
                "    ID_helper   INT,\r\n",
                "    ID_needy    INT,\r\n",
                ")\r\n",
                "\r\n",
                "CREATE TABLE [Account](\r\n",
                "\tID_user     INT PRIMARY KEY,\r\n",
                "\tusername    NVARCHAR(255),\r\n",
                "\tpwd         NVARCHAR(255)\r\n",
                ");\r\n",
                ""
            ],
            "metadata": {
                "azdata_cell_guid": "7d21a3bd-142e-4e20-873e-6835961d85b5",
                "tags": []
            },
            "outputs": [
                {
                    "output_type": "error",
                    "evalue": "Msg 1801, Level 16, State 3, Line 1\r\nDatabase 'Shecodes' already exists. Choose a different database name.",
                    "ename": "",
                    "traceback": []
                },
                {
                    "output_type": "display_data",
                    "data": {
                        "text/html": "Commands completed successfully."
                    },
                    "metadata": {}
                },
                {
                    "output_type": "error",
                    "evalue": "Msg 2714, Level 16, State 6, Line 6\r\nThere is already an object named 'User' in the database.",
                    "ename": "",
                    "traceback": []
                },
                {
                    "output_type": "error",
                    "evalue": "Msg 1770, Level 16, State 0, Line 53\r\nForeign key 'FK__Belong__ID_point__3B75D760' references invalid column 'ID_point' in referenced table 'dbo.Item'.",
                    "ename": "",
                    "traceback": []
                },
                {
                    "output_type": "error",
                    "evalue": "Msg 1750, Level 16, State 1, Line 53\r\nCould not create constraint or index. See previous errors.",
                    "ename": "",
                    "traceback": []
                },
                {
                    "output_type": "display_data",
                    "data": {
                        "text/html": "Total execution time: 00:00:00.112"
                    },
                    "metadata": {}
                }
            ],
            "execution_count": 4
        },
        {
            "cell_type": "code",
            "source": [
                "ALTER TABLE [dbo].[Account] ADD FOREIGN KEY (ID_user) REFERENCES dbo.[User] (ID_user);\r\n",
                "ALTER TABLE [dbo].[Belong] ADD FOREIGN KEY (ID_item) REFERENCES dbo.[Item] (ID_item);\r\n",
                "ALTER TABLE [dbo].[Belong] ADD FOREIGN KEY (ID_point) REFERENCES dbo.[Support_Point] (ID_point);\r\n",
                "ALTER TABLE [dbo].[Bill] ADD FOREIGN KEY (ID_helper) REFERENCES dbo.[Support_Point] (ID_point);\r\n",
                "ALTER TABLE [dbo].[Bill] ADD FOREIGN KEY (ID_needy) REFERENCES dbo.[Support_Point] (ID_point);\r\n",
                "\r\n",
                ""
            ],
            "metadata": {
                "azdata_cell_guid": "fcddaa62-d0bb-4cf1-a8dd-faebe472d77e"
            },
            "outputs": [
                {
                    "output_type": "display_data",
                    "data": {
                        "text/html": "Commands completed successfully."
                    },
                    "metadata": {}
                },
                {
                    "output_type": "display_data",
                    "data": {
                        "text/html": "Total execution time: 00:00:00.013"
                    },
                    "metadata": {}
                }
            ],
            "execution_count": 9
        },
        {
            "cell_type": "code",
            "source": [
                "USE Shecodes;\r\n",
                "GO\r\n",
                "\r\n",
                "INSERT INTO [User]\r\n",
                "  VALUES\r\n",
                "        --DOCTOR\r\n",
                "        (1,'Hong Phuc',N'0919813177',0,0,1,10.80529,106.6806218),\r\n",
                "        --NURSE\r\n",
                "        (2,'Hong Hoa',N'0919813654',0,0,2,10.8043099,106.6810831),\r\n",
                "        --THE NEEDY\r\n",
                "        (3,'Thanh Xuan',N'091986523',0,0,3,10.8043099,106.6810831),\r\n",
                "        --THE GIVER\r\n",
                "        (4,'Amanda Vu',N'0918658214',0,0,4,10.8093684,106.6937217),\r\n",
                "        --ADMIN\r\n",
                "        (5,'Le Tran',N'0984756215',0,0,5,10.8067443,106.6969725);            \r\n",
                "GO\r\n",
                "\r\n",
                "INSERT INTO Account\r\n",
                "    VALUES\r\n",
                "            (1,'hongphuc', 'hongphuc'),\r\n",
                "            (2,'honghoa','honghoa'),\r\n",
                "            (3,'thanhxuan','thanhxuan'),\r\n",
                "            (4,'amanda','amanda'),\r\n",
                "            (5,'letran','letran');\r\n",
                "GO"
            ],
            "metadata": {
                "azdata_cell_guid": "59fe7152-c6f9-4d30-a540-be5c76a43de7",
                "tags": []
            },
            "outputs": [
                {
                    "output_type": "display_data",
                    "data": {
                        "text/html": "Commands completed successfully."
                    },
                    "metadata": {}
                },
                {
                    "output_type": "error",
                    "evalue": "Msg 8101, Level 16, State 1, Line 4\r\nAn explicit value for the identity column in table 'User' can only be specified when a column list is used and IDENTITY_INSERT is ON.",
                    "ename": "",
                    "traceback": []
                },
                {
                    "output_type": "error",
                    "evalue": "Msg 547, Level 16, State 0, Line 18\r\nThe INSERT statement conflicted with the FOREIGN KEY constraint \"FK__Account__ID_user__398D8EEE\". The conflict occurred in database \"Shecodes\", table \"dbo.User\", column 'ID_user'.",
                    "ename": "",
                    "traceback": []
                },
                {
                    "output_type": "display_data",
                    "data": {
                        "text/html": "The statement has been terminated."
                    },
                    "metadata": {}
                },
                {
                    "output_type": "display_data",
                    "data": {
                        "text/html": "Total execution time: 00:00:00.029"
                    },
                    "metadata": {}
                }
            ],
            "execution_count": 10
        },
        {
            "cell_type": "code",
            "source": [
                "--DONT RUN\r\n",
                "\r\n",
                "\r\n",
                "CREATE TRIGGER NewPoint ON dbo.SupportPoint\r\n",
                "FOR INSERT\r\n",
                "AS\r\n",
                "BEGIN\r\n",
                "\tDECLARE @ID INT,\r\n",
                "            @\r\n",
                "\r\n",
                "\tSELECT @ID = Deleted.[ID_chương trình] FROM Deleted;\r\n",
                "\tUPDATE dbo.[Chương trình] SET [Loại chương trình] = REPLACE([Loại chương trình], N'TT', N'') \r\n",
                "\tWHERE [ID_chương trình] = @ID;\r\n",
                "END;\r\n",
                "GO"
            ],
            "metadata": {
                "azdata_cell_guid": "0e04b9ab-85b9-4676-b3b1-9181ac503629"
            },
            "outputs": [],
            "execution_count": null
        }
    ]
}